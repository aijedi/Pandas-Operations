{
 "cells": [
  {
   "cell_type": "code",
   "execution_count": 1,
   "metadata": {},
   "outputs": [],
   "source": [
    "import pandas as pd\n",
    "import os\n",
    "import numpy as np"
   ]
  },
  {
   "cell_type": "code",
   "execution_count": 2,
   "metadata": {},
   "outputs": [
    {
     "data": {
      "text/plain": [
       "['file_1.xlsx', 'file_2.csv', 'new_result.csv']"
      ]
     },
     "execution_count": 2,
     "metadata": {},
     "output_type": "execute_result"
    }
   ],
   "source": [
    "os.listdir('data')"
   ]
  },
  {
   "cell_type": "code",
   "execution_count": 3,
   "metadata": {},
   "outputs": [
    {
     "name": "stdout",
     "output_type": "stream",
     "text": [
      "(1189, 6)\n"
     ]
    },
    {
     "data": {
      "text/html": [
       "<div>\n",
       "<style scoped>\n",
       "    .dataframe tbody tr th:only-of-type {\n",
       "        vertical-align: middle;\n",
       "    }\n",
       "\n",
       "    .dataframe tbody tr th {\n",
       "        vertical-align: top;\n",
       "    }\n",
       "\n",
       "    .dataframe thead th {\n",
       "        text-align: right;\n",
       "    }\n",
       "</style>\n",
       "<table border=\"1\" class=\"dataframe\">\n",
       "  <thead>\n",
       "    <tr style=\"text-align: right;\">\n",
       "      <th></th>\n",
       "      <th>filename</th>\n",
       "      <th>a</th>\n",
       "      <th>b</th>\n",
       "      <th>c</th>\n",
       "      <th>d</th>\n",
       "      <th>e</th>\n",
       "    </tr>\n",
       "  </thead>\n",
       "  <tbody>\n",
       "    <tr>\n",
       "      <th>0</th>\n",
       "      <td>Ajay Thakur0.jpeg</td>\n",
       "      <td>33</td>\n",
       "      <td>Male</td>\n",
       "      <td>1.85</td>\n",
       "      <td>76</td>\n",
       "      <td>22.20599</td>\n",
       "    </tr>\n",
       "    <tr>\n",
       "      <th>1</th>\n",
       "      <td>Ajay Thakur1.jpeg</td>\n",
       "      <td>33</td>\n",
       "      <td>Male</td>\n",
       "      <td>1.85</td>\n",
       "      <td>76</td>\n",
       "      <td>22.20599</td>\n",
       "    </tr>\n",
       "    <tr>\n",
       "      <th>2</th>\n",
       "      <td>Ajay Thakur2.jpeg</td>\n",
       "      <td>33</td>\n",
       "      <td>Male</td>\n",
       "      <td>1.85</td>\n",
       "      <td>76</td>\n",
       "      <td>22.20599</td>\n",
       "    </tr>\n",
       "    <tr>\n",
       "      <th>3</th>\n",
       "      <td>Ajay Thakur3.jpeg</td>\n",
       "      <td>33</td>\n",
       "      <td>Male</td>\n",
       "      <td>1.85</td>\n",
       "      <td>76</td>\n",
       "      <td>22.20599</td>\n",
       "    </tr>\n",
       "    <tr>\n",
       "      <th>4</th>\n",
       "      <td>Ajay Thakur4.jpeg</td>\n",
       "      <td>33</td>\n",
       "      <td>Male</td>\n",
       "      <td>1.85</td>\n",
       "      <td>76</td>\n",
       "      <td>22.20599</td>\n",
       "    </tr>\n",
       "  </tbody>\n",
       "</table>\n",
       "</div>"
      ],
      "text/plain": [
       "            filename   a     b     c   d         e\n",
       "0  Ajay Thakur0.jpeg  33  Male  1.85  76  22.20599\n",
       "1  Ajay Thakur1.jpeg  33  Male  1.85  76  22.20599\n",
       "2  Ajay Thakur2.jpeg  33  Male  1.85  76  22.20599\n",
       "3  Ajay Thakur3.jpeg  33  Male  1.85  76  22.20599\n",
       "4  Ajay Thakur4.jpeg  33  Male  1.85  76  22.20599"
      ]
     },
     "execution_count": 3,
     "metadata": {},
     "output_type": "execute_result"
    }
   ],
   "source": [
    "import xlrd\n",
    "df1 = pd.read_excel('data/file_1.xlsx')\n",
    "print (df1.shape)\n",
    "df1.head()"
   ]
  },
  {
   "cell_type": "code",
   "execution_count": 4,
   "metadata": {
    "scrolled": true
   },
   "outputs": [
    {
     "name": "stdout",
     "output_type": "stream",
     "text": [
      "['filename' 'a' 'b' 'c' 'd' 'e']\n"
     ]
    }
   ],
   "source": [
    "print (df1.columns.values)"
   ]
  },
  {
   "cell_type": "code",
   "execution_count": 9,
   "metadata": {},
   "outputs": [
    {
     "name": "stdout",
     "output_type": "stream",
     "text": [
      "(2334, 6)\n"
     ]
    },
    {
     "data": {
      "text/html": [
       "<div>\n",
       "<style scoped>\n",
       "    .dataframe tbody tr th:only-of-type {\n",
       "        vertical-align: middle;\n",
       "    }\n",
       "\n",
       "    .dataframe tbody tr th {\n",
       "        vertical-align: top;\n",
       "    }\n",
       "\n",
       "    .dataframe thead th {\n",
       "        text-align: right;\n",
       "    }\n",
       "</style>\n",
       "<table border=\"1\" class=\"dataframe\">\n",
       "  <thead>\n",
       "    <tr style=\"text-align: right;\">\n",
       "      <th></th>\n",
       "      <th>filename</th>\n",
       "      <th>a</th>\n",
       "      <th>b</th>\n",
       "      <th>c</th>\n",
       "      <th>d</th>\n",
       "      <th>e</th>\n",
       "    </tr>\n",
       "  </thead>\n",
       "  <tbody>\n",
       "    <tr>\n",
       "      <th>0</th>\n",
       "      <td>401a</td>\n",
       "      <td>23</td>\n",
       "      <td>F</td>\n",
       "      <td>1.7272</td>\n",
       "      <td>122.469940</td>\n",
       "      <td>41.052938</td>\n",
       "    </tr>\n",
       "    <tr>\n",
       "      <th>1</th>\n",
       "      <td>403a</td>\n",
       "      <td>19</td>\n",
       "      <td>M</td>\n",
       "      <td>1.8034</td>\n",
       "      <td>112.944500</td>\n",
       "      <td>34.728095</td>\n",
       "    </tr>\n",
       "    <tr>\n",
       "      <th>2</th>\n",
       "      <td>403b</td>\n",
       "      <td>19</td>\n",
       "      <td>M</td>\n",
       "      <td>1.8034</td>\n",
       "      <td>93.893621</td>\n",
       "      <td>28.870344</td>\n",
       "    </tr>\n",
       "    <tr>\n",
       "      <th>3</th>\n",
       "      <td>404b</td>\n",
       "      <td>32</td>\n",
       "      <td>M</td>\n",
       "      <td>1.7272</td>\n",
       "      <td>93.440028</td>\n",
       "      <td>31.321871</td>\n",
       "    </tr>\n",
       "    <tr>\n",
       "      <th>4</th>\n",
       "      <td>405b</td>\n",
       "      <td>23</td>\n",
       "      <td>F</td>\n",
       "      <td>1.7272</td>\n",
       "      <td>93.440028</td>\n",
       "      <td>31.321871</td>\n",
       "    </tr>\n",
       "  </tbody>\n",
       "</table>\n",
       "</div>"
      ],
      "text/plain": [
       "  filename   a  b       c           d          e\n",
       "0     401a  23  F  1.7272  122.469940  41.052938\n",
       "1     403a  19  M  1.8034  112.944500  34.728095\n",
       "2     403b  19  M  1.8034   93.893621  28.870344\n",
       "3     404b  32  M  1.7272   93.440028  31.321871\n",
       "4     405b  23  F  1.7272   93.440028  31.321871"
      ]
     },
     "execution_count": 9,
     "metadata": {},
     "output_type": "execute_result"
    }
   ],
   "source": [
    "df2 = pd.read_csv('data/file_2.csv')\n",
    "print (df2.shape)\n",
    "df2.head()"
   ]
  },
  {
   "cell_type": "markdown",
   "metadata": {},
   "source": [
    "Concatenating the dataframes"
   ]
  },
  {
   "cell_type": "code",
   "execution_count": 10,
   "metadata": {},
   "outputs": [],
   "source": [
    "result = pd.concat([df1,df2])"
   ]
  },
  {
   "cell_type": "code",
   "execution_count": 11,
   "metadata": {},
   "outputs": [
    {
     "data": {
      "text/plain": [
       "(3523, 6)"
      ]
     },
     "execution_count": 11,
     "metadata": {},
     "output_type": "execute_result"
    }
   ],
   "source": [
    "result.shape"
   ]
  },
  {
   "cell_type": "code",
   "execution_count": 12,
   "metadata": {},
   "outputs": [
    {
     "data": {
      "text/html": [
       "<div>\n",
       "<style scoped>\n",
       "    .dataframe tbody tr th:only-of-type {\n",
       "        vertical-align: middle;\n",
       "    }\n",
       "\n",
       "    .dataframe tbody tr th {\n",
       "        vertical-align: top;\n",
       "    }\n",
       "\n",
       "    .dataframe thead th {\n",
       "        text-align: right;\n",
       "    }\n",
       "</style>\n",
       "<table border=\"1\" class=\"dataframe\">\n",
       "  <thead>\n",
       "    <tr style=\"text-align: right;\">\n",
       "      <th></th>\n",
       "      <th>filename</th>\n",
       "      <th>a</th>\n",
       "      <th>b</th>\n",
       "      <th>c</th>\n",
       "      <th>d</th>\n",
       "      <th>e</th>\n",
       "    </tr>\n",
       "  </thead>\n",
       "  <tbody>\n",
       "    <tr>\n",
       "      <th>0</th>\n",
       "      <td>Ajay Thakur0.jpeg</td>\n",
       "      <td>33</td>\n",
       "      <td>Male</td>\n",
       "      <td>1.85</td>\n",
       "      <td>76.0</td>\n",
       "      <td>22.20599</td>\n",
       "    </tr>\n",
       "    <tr>\n",
       "      <th>1</th>\n",
       "      <td>Ajay Thakur1.jpeg</td>\n",
       "      <td>33</td>\n",
       "      <td>Male</td>\n",
       "      <td>1.85</td>\n",
       "      <td>76.0</td>\n",
       "      <td>22.20599</td>\n",
       "    </tr>\n",
       "    <tr>\n",
       "      <th>2</th>\n",
       "      <td>Ajay Thakur2.jpeg</td>\n",
       "      <td>33</td>\n",
       "      <td>Male</td>\n",
       "      <td>1.85</td>\n",
       "      <td>76.0</td>\n",
       "      <td>22.20599</td>\n",
       "    </tr>\n",
       "    <tr>\n",
       "      <th>3</th>\n",
       "      <td>Ajay Thakur3.jpeg</td>\n",
       "      <td>33</td>\n",
       "      <td>Male</td>\n",
       "      <td>1.85</td>\n",
       "      <td>76.0</td>\n",
       "      <td>22.20599</td>\n",
       "    </tr>\n",
       "    <tr>\n",
       "      <th>4</th>\n",
       "      <td>Ajay Thakur4.jpeg</td>\n",
       "      <td>33</td>\n",
       "      <td>Male</td>\n",
       "      <td>1.85</td>\n",
       "      <td>76.0</td>\n",
       "      <td>22.20599</td>\n",
       "    </tr>\n",
       "  </tbody>\n",
       "</table>\n",
       "</div>"
      ],
      "text/plain": [
       "            filename   a     b     c     d         e\n",
       "0  Ajay Thakur0.jpeg  33  Male  1.85  76.0  22.20599\n",
       "1  Ajay Thakur1.jpeg  33  Male  1.85  76.0  22.20599\n",
       "2  Ajay Thakur2.jpeg  33  Male  1.85  76.0  22.20599\n",
       "3  Ajay Thakur3.jpeg  33  Male  1.85  76.0  22.20599\n",
       "4  Ajay Thakur4.jpeg  33  Male  1.85  76.0  22.20599"
      ]
     },
     "execution_count": 12,
     "metadata": {},
     "output_type": "execute_result"
    }
   ],
   "source": [
    "result.head()"
   ]
  },
  {
   "cell_type": "code",
   "execution_count": 20,
   "metadata": {},
   "outputs": [],
   "source": [
    "result.to_csv('data/final.csv')"
   ]
  }
 ],
 "metadata": {
  "kernelspec": {
   "display_name": "Python 3",
   "language": "python",
   "name": "python3"
  },
  "language_info": {
   "codemirror_mode": {
    "name": "ipython",
    "version": 3
   },
   "file_extension": ".py",
   "mimetype": "text/x-python",
   "name": "python",
   "nbconvert_exporter": "python",
   "pygments_lexer": "ipython3",
   "version": "3.6.6"
  }
 },
 "nbformat": 4,
 "nbformat_minor": 2
}
